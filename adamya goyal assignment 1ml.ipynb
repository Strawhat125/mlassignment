{
  "nbformat": 4,
  "nbformat_minor": 0,
  "metadata": {
    "colab": {
      "provenance": []
    },
    "kernelspec": {
      "name": "python3",
      "display_name": "Python 3"
    },
    "language_info": {
      "name": "python"
    }
  },
  "cells": [
    {
      "cell_type": "code",
      "execution_count": 1,
      "metadata": {
        "id": "_OAy8QDj607g"
      },
      "outputs": [],
      "source": [
        "import numpy as np\n",
        "from PIL import Image\n",
        "import matplotlib.pyplot as plt"
      ]
    },
    {
      "cell_type": "code",
      "source": [
        "\n",
        "arr = np.array([1, 2, 3, 6, 4, 5])\n",
        "print(\"Reversed:\", arr[::-1])"
      ],
      "metadata": {
        "colab": {
          "base_uri": "https://localhost:8080/"
        },
        "id": "JqSyfnos6-Bx",
        "outputId": "7b30bf04-638d-41aa-e93c-112ecdcf8473"
      },
      "execution_count": 2,
      "outputs": [
        {
          "output_type": "stream",
          "name": "stdout",
          "text": [
            "Reversed: [5 4 6 3 2 1]\n"
          ]
        }
      ]
    },
    {
      "cell_type": "code",
      "source": [
        "array1 = np.array([[1, 2, 3], [2, 4, 5], [1, 2, 3]])\n",
        "print(\"Flatten (method 1):\", array1.flatten())\n",
        "print(\"Flatten (method 2):\", array1.ravel())"
      ],
      "metadata": {
        "colab": {
          "base_uri": "https://localhost:8080/"
        },
        "id": "ZE1chhPG6996",
        "outputId": "4f946822-48e2-492c-f18a-db692217835f"
      },
      "execution_count": 3,
      "outputs": [
        {
          "output_type": "stream",
          "name": "stdout",
          "text": [
            "Flatten (method 1): [1 2 3 2 4 5 1 2 3]\n",
            "Flatten (method 2): [1 2 3 2 4 5 1 2 3]\n"
          ]
        }
      ]
    },
    {
      "cell_type": "code",
      "source": [
        "arr1 = np.array([[1, 2], [3, 4]])\n",
        "arr2 = np.array([[1, 2], [3, 4]])\n",
        "print(\"Arrays equal:\", np.array_equal(arr1, arr2))\n",
        "\n"
      ],
      "metadata": {
        "colab": {
          "base_uri": "https://localhost:8080/"
        },
        "id": "9wgJgkmR6936",
        "outputId": "ece80c22-cae4-4233-dc45-47f35c8d9994"
      },
      "execution_count": 5,
      "outputs": [
        {
          "output_type": "stream",
          "name": "stdout",
          "text": [
            "Arrays equal: True\n"
          ]
        }
      ]
    },
    {
      "cell_type": "code",
      "source": [
        "x = np.array([1,2,3,4,5,1,2,1,1,1])\n",
        "y = np.array([1, 1, 1, 2, 3, 4, 2, 4, 3, 3])\n",
        "for arr in [x, y]:\n",
        "    vals, counts = np.unique(arr, return_counts=True)\n",
        "    max_val = vals[np.argmax(counts)]\n",
        "    indices = np.where(arr == max_val)[0]\n",
        "    print(f\"Most frequent: {max_val}, Indices: {indices}\")"
      ],
      "metadata": {
        "colab": {
          "base_uri": "https://localhost:8080/"
        },
        "id": "gAJ626m_69w6",
        "outputId": "2009cbee-5e68-453b-a41d-f39e72a063d2"
      },
      "execution_count": 6,
      "outputs": [
        {
          "output_type": "stream",
          "name": "stdout",
          "text": [
            "Most frequent: 1, Indices: [0 5 7 8 9]\n",
            "Most frequent: 1, Indices: [0 1 2]\n"
          ]
        }
      ]
    },
    {
      "cell_type": "code",
      "source": [
        "gfg = np.matrix('[4, 1, 9; 12, 3, 1; 4, 5, 6]')\n",
        "print(\"Total Sum:\", gfg.sum())\n",
        "print(\"Row-wise Sum:\", np.sum(gfg, axis=1))\n",
        "print(\"Column-wise Sum:\", np.sum(gfg, axis=0))\n"
      ],
      "metadata": {
        "colab": {
          "base_uri": "https://localhost:8080/"
        },
        "id": "VzKXCDDu7XBG",
        "outputId": "0a9eb6b5-27be-4b38-c8cf-bbb33c995113"
      },
      "execution_count": 7,
      "outputs": [
        {
          "output_type": "stream",
          "name": "stdout",
          "text": [
            "Total Sum: 45\n",
            "Row-wise Sum: [[14]\n",
            " [16]\n",
            " [15]]\n",
            "Column-wise Sum: [[20  9 16]]\n"
          ]
        }
      ]
    },
    {
      "cell_type": "code",
      "source": [
        "n_array = np.array([[55, 25, 15], [30, 44, 2], [11, 45, 77]])\n",
        "print(\"Diagonal sum:\", np.trace(n_array))\n",
        "eig_vals, eig_vecs = np.linalg.eig(n_array)\n",
        "print(\"Eigenvalues:\", eig_vals)\n",
        "print(\"Eigenvectors:\\n\", eig_vecs)\n",
        "print(\"Inverse:\\n\", np.linalg.inv(n_array))\n",
        "print(\"Determinant:\", np.linalg.det(n_array))\n"
      ],
      "metadata": {
        "colab": {
          "base_uri": "https://localhost:8080/"
        },
        "id": "H2qcCORK7XFw",
        "outputId": "fde811ef-b4ae-4b3e-f3c4-1804fe8e7df9"
      },
      "execution_count": 8,
      "outputs": [
        {
          "output_type": "stream",
          "name": "stdout",
          "text": [
            "Diagonal sum: 176\n",
            "Eigenvalues: [98.16835147 28.097044   49.73460452]\n",
            "Eigenvectors:\n",
            " [[ 0.4574917   0.34637121 -0.15017693]\n",
            " [ 0.28447814 -0.72784061 -0.4852124 ]\n",
            " [ 0.84248058  0.59184038  0.8614034 ]]\n",
            "Inverse:\n",
            " [[ 0.02404141 -0.00911212 -0.00444671]\n",
            " [-0.01667882  0.02966905  0.0024785 ]\n",
            " [ 0.00631287 -0.01603732  0.01217379]]\n",
            "Determinant: 137180.0000000001\n"
          ]
        }
      ]
    },
    {
      "cell_type": "code",
      "source": [
        "p1 = np.array([[1, 2], [2, 3]])\n",
        "q1 = np.array([[4, 5], [6, 7]])\n",
        "print(\"Mult 1:\\n\", np.dot(p1, q1))\n",
        "print(\"Covariance 1:\\n\", np.cov(p1.T, q1.T))\n",
        "\n",
        "p2 = np.array([[1, 2], [2, 3], [4, 5]])\n",
        "q2 = np.array([[4, 5, 1], [6, 7, 2]])\n",
        "print(\"Mult 2:\\n\", np.dot(p2, q2))\n",
        "print(\"Covariance of p2:\\n\", np.cov(p2.T))\n",
        "print(\"Covariance of q2:\\n\", np.cov(q2.T))"
      ],
      "metadata": {
        "colab": {
          "base_uri": "https://localhost:8080/"
        },
        "id": "XTLviU-V7XJc",
        "outputId": "167c32bb-6e7f-460c-ab7c-cef00e40f567"
      },
      "execution_count": 10,
      "outputs": [
        {
          "output_type": "stream",
          "name": "stdout",
          "text": [
            "Mult 1:\n",
            " [[16 19]\n",
            " [26 31]]\n",
            "Covariance 1:\n",
            " [[0.5 0.5 1.  1. ]\n",
            " [0.5 0.5 1.  1. ]\n",
            " [1.  1.  2.  2. ]\n",
            " [1.  1.  2.  2. ]]\n",
            "Mult 2:\n",
            " [[16 19  5]\n",
            " [26 31  8]\n",
            " [46 55 14]]\n",
            "Covariance of p2:\n",
            " [[2.33333333 2.33333333]\n",
            " [2.33333333 2.33333333]]\n",
            "Covariance of q2:\n",
            " [[2.  2.  1. ]\n",
            " [2.  2.  1. ]\n",
            " [1.  1.  0.5]]\n"
          ]
        }
      ]
    },
    {
      "cell_type": "code",
      "source": [
        "x = np.array([[2, 3, 4], [3, 2, 9]])\n",
        "y = np.array([[1, 5, 0], [5, 10, 3]])\n",
        "print(\"Inner product:\", np.inner(x, y))\n",
        "print(\"Outer product:\\n\", np.outer(x, y))\n",
        "print(\"Cartesian product:\\n\", np.array(np.meshgrid(x.flatten(), y.flatten())).T.reshape(-1, 2))\n"
      ],
      "metadata": {
        "colab": {
          "base_uri": "https://localhost:8080/"
        },
        "id": "JztCa9WC8Cu0",
        "outputId": "e5ec42db-3d17-4c95-8e78-db25940f82f4"
      },
      "execution_count": 11,
      "outputs": [
        {
          "output_type": "stream",
          "name": "stdout",
          "text": [
            "Inner product: [[17 52]\n",
            " [13 62]]\n",
            "Outer product:\n",
            " [[ 2 10  0 10 20  6]\n",
            " [ 3 15  0 15 30  9]\n",
            " [ 4 20  0 20 40 12]\n",
            " [ 3 15  0 15 30  9]\n",
            " [ 2 10  0 10 20  6]\n",
            " [ 9 45  0 45 90 27]]\n",
            "Cartesian product:\n",
            " [[ 2  1]\n",
            " [ 2  5]\n",
            " [ 2  0]\n",
            " [ 2  5]\n",
            " [ 2 10]\n",
            " [ 2  3]\n",
            " [ 3  1]\n",
            " [ 3  5]\n",
            " [ 3  0]\n",
            " [ 3  5]\n",
            " [ 3 10]\n",
            " [ 3  3]\n",
            " [ 4  1]\n",
            " [ 4  5]\n",
            " [ 4  0]\n",
            " [ 4  5]\n",
            " [ 4 10]\n",
            " [ 4  3]\n",
            " [ 3  1]\n",
            " [ 3  5]\n",
            " [ 3  0]\n",
            " [ 3  5]\n",
            " [ 3 10]\n",
            " [ 3  3]\n",
            " [ 2  1]\n",
            " [ 2  5]\n",
            " [ 2  0]\n",
            " [ 2  5]\n",
            " [ 2 10]\n",
            " [ 2  3]\n",
            " [ 9  1]\n",
            " [ 9  5]\n",
            " [ 9  0]\n",
            " [ 9  5]\n",
            " [ 9 10]\n",
            " [ 9  3]]\n"
          ]
        }
      ]
    },
    {
      "cell_type": "code",
      "source": [
        "array = np.array([[1, -2, 3], [-4, 5, -6]])\n",
        "flat = array.flatten()\n",
        "print(\"Absolute:\\n\", np.abs(array))\n",
        "print(\"Percentiles (Flat):\", np.percentile(flat, [25, 50, 75]))\n",
        "print(\"Percentiles (Cols):\", np.percentile(array, [25, 50, 75], axis=0))\n",
        "print(\"Percentiles (Rows):\", np.percentile(array, [25, 50, 75], axis=1))\n",
        "print(\"Mean:\", np.mean(flat), \"Median:\", np.median(flat), \"Std:\", np.std(flat))\n",
        "print(\"Mean (Rows):\", np.mean(array, axis=1))\n",
        "print(\"Mean (Cols):\", np.mean(array, axis=0))\n",
        "\n",
        "a = np.array([-1.8, -1.6, -0.5, 0.5, 1.6, 1.8, 3.0])\n",
        "print(\"Floor:\", np.floor(a))\n",
        "print(\"Ceil:\", np.ceil(a))\n",
        "print(\"Trunc:\", np.trunc(a))\n",
        "print(\"Round:\", np.round(a))\n"
      ],
      "metadata": {
        "colab": {
          "base_uri": "https://localhost:8080/"
        },
        "id": "ubsbzQxi8C1w",
        "outputId": "20dd17c1-1237-4f57-9a95-42df3e012899"
      },
      "execution_count": 12,
      "outputs": [
        {
          "output_type": "stream",
          "name": "stdout",
          "text": [
            "Absolute:\n",
            " [[1 2 3]\n",
            " [4 5 6]]\n",
            "Percentiles (Flat): [-3.5 -0.5  2.5]\n",
            "Percentiles (Cols): [[-2.75 -0.25 -3.75]\n",
            " [-1.5   1.5  -1.5 ]\n",
            " [-0.25  3.25  0.75]]\n",
            "Percentiles (Rows): [[-0.5 -5. ]\n",
            " [ 1.  -4. ]\n",
            " [ 2.   0.5]]\n",
            "Mean: -0.5 Median: -0.5 Std: 3.8622100754188224\n",
            "Mean (Rows): [ 0.66666667 -1.66666667]\n",
            "Mean (Cols): [-1.5  1.5 -1.5]\n",
            "Floor: [-2. -2. -1.  0.  1.  1.  3.]\n",
            "Ceil: [-1. -1. -0.  1.  2.  2.  3.]\n",
            "Trunc: [-1. -1. -0.  0.  1.  1.  3.]\n",
            "Round: [-2. -2. -0.  0.  2.  2.  3.]\n"
          ]
        }
      ]
    },
    {
      "cell_type": "code",
      "source": [
        "array = np.array([10, 52, 62, 16, 16, 54, 453])\n",
        "print(\"Sorted:\", np.sort(array))\n",
        "print(\"Sorted Indices:\", np.argsort(array))\n",
        "print(\"4 smallest:\", np.partition(array, 3)[:4])\n",
        "print(\"5 largest:\", np.sort(array)[-5:])\n",
        "\n",
        "array = np.array([1.0, 1.2, 2.2, 2.0, 3.0, 2.0])\n",
        "ints = array[array == array.astype(int)]\n",
        "floats = array[array != array.astype(int)]\n",
        "print(\"Integers:\", ints)\n",
        "print(\"Floats:\", floats)"
      ],
      "metadata": {
        "colab": {
          "base_uri": "https://localhost:8080/"
        },
        "id": "wHKF-DBw8C5I",
        "outputId": "6517c2b1-09f1-4592-bb3d-fe5088cccaa1"
      },
      "execution_count": 13,
      "outputs": [
        {
          "output_type": "stream",
          "name": "stdout",
          "text": [
            "Sorted: [ 10  16  16  52  54  62 453]\n",
            "Sorted Indices: [0 3 4 1 5 2 6]\n",
            "4 smallest: [10 16 16 52]\n",
            "5 largest: [ 16  52  54  62 453]\n",
            "Integers: [1. 2. 3. 2.]\n",
            "Floats: [1.2 2.2]\n"
          ]
        }
      ]
    },
    {
      "cell_type": "code",
      "source": [],
      "metadata": {
        "id": "gLOkWGM38mjI"
      },
      "execution_count": null,
      "outputs": []
    },
    {
      "cell_type": "code",
      "source": [
        "def img_to_array(path):\n",
        "    img = Image.open(path)\n",
        "    img_array = np.array(img)\n",
        "    if len(img_array.shape) == 2:\n",
        "        np.savetxt(\"gray_image.txt\", img_array, fmt='%d')\n",
        "        print(\"Saved grayscale image array to gray_image.txt\")\n",
        "    else:\n",
        "        np.savetxt(\"rgb_image.txt\", img_array.reshape(-1, img_array.shape[-1]), fmt='%d')\n",
        "        print(\"Saved RGB image array to rgb_image.txt\")\n",
        "\n",
        "def load_saved_file(path):\n",
        "    data = np.loadtxt(path, dtype=int)\n",
        "    print(\"Loaded data:\\n\", data)"
      ],
      "metadata": {
        "id": "IYAZpol58DAc"
      },
      "execution_count": 14,
      "outputs": []
    }
  ]
}